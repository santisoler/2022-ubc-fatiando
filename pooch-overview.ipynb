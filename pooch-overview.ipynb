{
 "cells": [
  {
   "cell_type": "markdown",
   "id": "f4fc730e-63b5-4bb4-972c-243b7a62cbfd",
   "metadata": {},
   "source": [
    "# Pooch\n",
    "\n",
    "After reading the [FastTimes article published by Heagy et al. (2022)](https://fasttimesonline.co/geophysical-inversions-to-delineate-rocks-with-co-2-sequestration-potential-through-carbon-mineralization/) I've noticed that I could download the synthetic data they use to produce those inversions. They have uploaded all the data files and the code to reproduce their results to GitHub: https://github.com/simpeg-research/Fast-Times-2021-Carbon-Mineralization\n",
    "\n",
    "For example, the gravity data file is located in https://raw.githubusercontent.com/simpeg-research/Fast-Times-2021-Carbon-Mineralization/main/3_blocks_model/Assets/grav_data.obs\n",
    "\n",
    "If I only need that file to play around with my own models, there's no need to git clone the entire repo. I could use Pooch instead to download that particular data file.\n"
   ]
  },
  {
   "cell_type": "markdown",
   "id": "26d45e7f-70ca-4871-98f5-8c4f23e0a5fd",
   "metadata": {},
   "source": [
    "## Import Pooch"
   ]
  },
  {
   "cell_type": "code",
   "execution_count": 1,
   "id": "5d93703a-bc3b-4253-b83c-8ef2166f8f44",
   "metadata": {},
   "outputs": [],
   "source": [
    "import pooch"
   ]
  },
  {
   "cell_type": "markdown",
   "id": "eb51d9f2-97ab-4357-87b5-1dfddb709ed3",
   "metadata": {},
   "source": [
    "## Fetch the data file"
   ]
  },
  {
   "cell_type": "code",
   "execution_count": 2,
   "id": "d11bc3b1-f62d-40a9-bb9b-4e83d2fad78a",
   "metadata": {},
   "outputs": [],
   "source": [
    "url = \"https://raw.githubusercontent.com/simpeg-research/Fast-Times-2021-Carbon-Mineralization/main/3_blocks_model/Assets/grav_data.obs\""
   ]
  },
  {
   "cell_type": "code",
   "execution_count": 3,
   "id": "5dd0f6e2-8c39-41c8-9ffa-957ea4688fe7",
   "metadata": {},
   "outputs": [
    {
     "data": {
      "text/plain": [
       "'/home/santi/.cache/pooch/bc30496a01fde107fa2684cd7b7aff5e-grav_data.obs'"
      ]
     },
     "execution_count": 3,
     "metadata": {},
     "output_type": "execute_result"
    }
   ],
   "source": [
    "fname = pooch.retrieve(url, known_hash=\"604d36a6c87bef5363ddd3598430acfcd611b549322561f2edfb311e8085a182\")\n",
    "fname"
   ]
  },
  {
   "cell_type": "markdown",
   "id": "cb701442-493d-42e0-bbbc-ee74322384d7",
   "metadata": {},
   "source": [
    "## Load the data file"
   ]
  },
  {
   "cell_type": "code",
   "execution_count": 9,
   "id": "90bc2bac-0856-4867-b5a7-82b65d383c92",
   "metadata": {},
   "outputs": [],
   "source": [
    "import matplotlib.pyplot as plt\n",
    "from SimPEG.utils import io_utils, plot2Ddata"
   ]
  },
  {
   "cell_type": "code",
   "execution_count": 10,
   "id": "bee9ba0a-2496-4649-9883-5f7508409153",
   "metadata": {},
   "outputs": [],
   "source": [
    "gravity_data = io_utils.read_grav3d_ubc(fname)"
   ]
  },
  {
   "cell_type": "code",
   "execution_count": 11,
   "id": "9ca962c0-5b18-471f-86b9-f685ada5cb75",
   "metadata": {},
   "outputs": [],
   "source": [
    "receiver_locations = gravity_data.survey.receiver_locations"
   ]
  },
  {
   "cell_type": "code",
   "execution_count": 24,
   "id": "bc755374-d89e-4c64-bc1a-baee16fc4c9c",
   "metadata": {},
   "outputs": [
    {
     "data": {
      "image/png": "[encoded data removed]",
      "text/plain": [
       "<Figure size 720x720 with 2 Axes>"
      ]
     },
     "metadata": {
      "needs_background": "light"
     },
     "output_type": "display_data"
    }
   ],
   "source": [
    "tmp, _ = plot2Ddata(receiver_locations, gravity_data.dobs)\n",
    "plt.colorbar(tmp, label=\"mGal\")\n",
    "plt.gca().set_aspect(\"equal\")\n",
    "plt.gcf().set_size_inches(10, 10)\n",
    "plt.show()"
   ]
  },
  {
   "cell_type": "markdown",
   "id": "58b8897e-f9e5-4687-84ca-c3ee8093f177",
   "metadata": {},
   "source": [
    "## Download from DOIs\n",
    "\n",
    "Pooch also allows us to download files from archives like [Zenodo]() and [figshare]() by passing only the DOI of the object.\n",
    "\n",
    "For example, we can download the `tiny-data.txt` file in [10.6084/m9.figshare.14763051.v1](https://doi.org/10.6084/m9.figshare.14763051.v1) doing the following:"
   ]
  },
  {
   "cell_type": "code",
   "execution_count": 29,
   "id": "b9f91ca9-d448-45f0-96d8-fb21f8ba8b1b",
   "metadata": {},
   "outputs": [
    {
     "data": {
      "text/plain": [
       "'/home/santi/.cache/pooch/56ae252db564e32a5c19824436c185d6-tiny-data.txt'"
      ]
     },
     "execution_count": 29,
     "metadata": {},
     "output_type": "execute_result"
    }
   ],
   "source": [
    "fname = pooch.retrieve(\n",
    "    \"doi:10.6084/m9.figshare.14763051.v1/tiny-data.txt\",\n",
    "    known_hash=\"baee0894dba14b12085eacb204284b97e362f4f3e5a5807693cc90ef415c1b2d\"\n",
    ")\n",
    "fname"
   ]
  },
  {
   "cell_type": "code",
   "execution_count": 30,
   "id": "51e693ce-1374-46a6-802e-6aca096925d3",
   "metadata": {},
   "outputs": [
    {
     "data": {
      "text/plain": [
       "array([1., 2., 3., 4., 5., 6.])"
      ]
     },
     "execution_count": 30,
     "metadata": {},
     "output_type": "execute_result"
    }
   ],
   "source": [
    "import numpy as np\n",
    "\n",
    "data = np.loadtxt(fname)\n",
    "data"
   ]
  }
 ],
 "metadata": {
  "kernelspec": {
   "display_name": "Python [conda env:2022-ubc-fatiando]",
   "language": "python",
   "name": "conda-env-2022-ubc-fatiando-py"
  },
  "language_info": {
   "codemirror_mode": {
    "name": "ipython",
    "version": 3
   },
   "file_extension": ".py",
   "mimetype": "text/x-python",
   "name": "python",
   "nbconvert_exporter": "python",
   "pygments_lexer": "ipython3",
   "version": "3.9.0"
  }
 },
 "nbformat": 4,
 "nbformat_minor": 5
}
