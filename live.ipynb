{
 "cells": [
  {
   "cell_type": "markdown",
   "id": "eddf2e87-d54b-4d44-903c-24124afbd262",
   "metadata": {},
   "source": [
    "# Live demo: Processing gravity data with Fatiando a Terra\n",
    "\n",
    "This notebook is based on the [Fatiando tutorial for processing gravity data](https://github.com/fatiando/tutorials)."
   ]
  },
  {
   "cell_type": "markdown",
   "id": "ae028f3f-b962-49d0-b401-e93e2eefa897",
   "metadata": {},
   "source": [
    "## Import packages"
   ]
  },
  {
   "cell_type": "code",
   "execution_count": null,
   "id": "ce93d2aa-cefa-4d3a-9518-ab7c806d5cfe",
   "metadata": {},
   "outputs": [],
   "source": [
    "import pygmt\n",
    "import pyproj\n",
    "import numpy as np\n",
    "import pandas as pd\n",
    "import xarray as xr\n",
    "\n",
    "import ensaio\n",
    "import verde as vd\n",
    "import boule as bl\n",
    "import harmonica as hm"
   ]
  },
  {
   "cell_type": "markdown",
   "id": "617b0940-7288-4460-904c-c65cf498434d",
   "metadata": {},
   "source": [
    "## Load gravity data for Bushveld Igenous Complex (Southern Africa) and a DEM"
   ]
  },
  {
   "cell_type": "markdown",
   "id": "11d465c5-bac1-4113-b568-54684c004a01",
   "metadata": {},
   "source": [
    "We can use [Ensaio](https://www.fatiando.org/ensaio) to download our sample data files.\n",
    "Let's download some gravity data of the Bushveld Igenous Complex, Southern Africa:"
   ]
  },
  {
   "cell_type": "code",
   "execution_count": null,
   "id": "d405b386-1d76-4549-bbac-64d6dc030658",
   "metadata": {},
   "outputs": [],
   "source": []
  },
  {
   "cell_type": "markdown",
   "id": "79d1fcfe-bf5b-437b-8b92-187d7e5b3e7d",
   "metadata": {},
   "source": [
    "And use Pandas for reading the csv file"
   ]
  },
  {
   "cell_type": "code",
   "execution_count": null,
   "id": "f3b1f231-6a82-4ee9-adac-963adfa4b061",
   "metadata": {},
   "outputs": [],
   "source": [
    "data = pd.read_csv(fname).drop(columns=[\"gravity_disturbance_mgal\", \"gravity_bouguer_mgal\"])\n",
    "data"
   ]
  },
  {
   "cell_type": "code",
   "execution_count": null,
   "id": "3ca57463-bbbd-4ede-82c3-1603bc7a273a",
   "metadata": {},
   "outputs": [],
   "source": [
    "# Obtain the region to plot using Verde ([W, E, S, N])\n",
    "region_deg = vd.get_region((data.longitude, data.latitude))\n",
    "\n",
    "fig = pygmt.Figure()\n",
    "fig.basemap(projection=\"M15c\", region=region_deg, frame=True)\n",
    "pygmt.makecpt(cmap=\"viridis\", series=[data.gravity_mgal.min(), data.gravity_mgal.max()])\n",
    "fig.plot(\n",
    "    x=data.longitude,\n",
    "    y=data.latitude,\n",
    "    color=data.gravity_mgal,\n",
    "    cmap=True,\n",
    "    style=\"c0.1c\",\n",
    ")\n",
    "fig.colorbar(frame='af+l\"Observed Gravity [mGal]\"')\n",
    "fig.show()"
   ]
  },
  {
   "cell_type": "markdown",
   "id": "989eb172-c7bc-4d02-b779-a3f3943ae6db",
   "metadata": {},
   "source": [
    "Let's download a DEM for Southern Africa:"
   ]
  },
  {
   "cell_type": "code",
   "execution_count": null,
   "id": "75d2cfb6-3972-4c12-97d5-38c042d047b7",
   "metadata": {},
   "outputs": [],
   "source": []
  },
  {
   "cell_type": "markdown",
   "id": "bce4e958-d43c-4be8-b252-5fc4997c41f7",
   "metadata": {},
   "source": [
    "And use Xarray to load the netCDF file:"
   ]
  },
  {
   "cell_type": "code",
   "execution_count": null,
   "id": "01551e59-7f77-4996-8068-dd0b26ec01de",
   "metadata": {},
   "outputs": [],
   "source": [
    "topography = xr.load_dataarray(fname)\n",
    "topography"
   ]
  },
  {
   "cell_type": "markdown",
   "id": "9363d49d-5079-4128-ba15-91184e6c349d",
   "metadata": {},
   "source": [
    "### Crop the topography around Bushveld Igeneous complex area"
   ]
  },
  {
   "cell_type": "code",
   "execution_count": null,
   "id": "7abf55ab-0445-44a4-98e9-b77cfc7614b1",
   "metadata": {},
   "outputs": [],
   "source": []
  },
  {
   "cell_type": "code",
   "execution_count": null,
   "id": "84e1bd7a-dd54-4903-a0cc-372c36400d29",
   "metadata": {},
   "outputs": [],
   "source": []
  },
  {
   "cell_type": "code",
   "execution_count": null,
   "id": "d11271d0-6cc7-4ac3-b567-9e4673ba0cf1",
   "metadata": {
    "tags": []
   },
   "outputs": [],
   "source": [
    "# Plot topography using pygmt\n",
    "fig = pygmt.Figure()\n",
    "topo_region = vd.get_region((topography.longitude.values, topography.latitude.values))\n",
    "fig.basemap(projection=\"M15c\", region=topo_region, frame=True)\n",
    "\n",
    "vmin, vmax = topography.values.min(), topography.values.max()\n",
    "pygmt.makecpt(cmap=\"etopo1\", series=[vmin, vmax])\n",
    "fig.grdimage(topography)\n",
    "\n",
    "fig.colorbar(frame='af+l\"Topography [m]\"')\n",
    "fig.show()"
   ]
  },
  {
   "cell_type": "markdown",
   "id": "62e3b36c-1a23-4163-8bc3-bb100807fccf",
   "metadata": {},
   "source": [
    "## Compute gravity disturbance\n",
    "\n",
    "We can use [Boule](https://www.fatiando.org/boule) to compute the normal gravity of the WGS84 reference ellipsoid on any point."
   ]
  },
  {
   "cell_type": "code",
   "execution_count": null,
   "id": "b87abd97-99bd-4172-ac7c-c60ccef667c0",
   "metadata": {},
   "outputs": [],
   "source": []
  },
  {
   "cell_type": "markdown",
   "id": "7d15e31e-b04f-4762-b309-700b3aae2a2b",
   "metadata": {},
   "source": [
    "And compute the gravity disturbance as the difference between the observed gravity and the normal gravity:"
   ]
  },
  {
   "cell_type": "code",
   "execution_count": null,
   "id": "c8baba02-be0e-4656-b7bb-d41b19232636",
   "metadata": {},
   "outputs": [],
   "source": [
    "data[\"gravity_disturbance_mgal\"] = data.gravity_mgal - normal_gravity\n",
    "data"
   ]
  },
  {
   "cell_type": "code",
   "execution_count": null,
   "id": "c1cf7e04-4dea-4064-9774-a8bf2f7ef86e",
   "metadata": {},
   "outputs": [],
   "source": [
    "fig = pygmt.Figure()\n",
    "fig.basemap(projection=\"M15c\", region=region_deg, frame=True)\n",
    "\n",
    "maxabs = vd.maxabs(data.gravity_disturbance_mgal)\n",
    "pygmt.makecpt(cmap=\"polar\", series=[-maxabs, maxabs])\n",
    "fig.plot(\n",
    "    x=data.longitude,\n",
    "    y=data.latitude,\n",
    "    color=data.gravity_disturbance_mgal,\n",
    "    cmap=True,\n",
    "    style=\"c4p\",\n",
    ")\n",
    "\n",
    "fig.colorbar(frame='af+l\"Gravity disturbance [mGal]\"')\n",
    "fig.show()"
   ]
  },
  {
   "cell_type": "markdown",
   "id": "f66973a9-b078-49e0-9997-d1f5843ed580",
   "metadata": {},
   "source": [
    "## Remove terrain effect\n",
    "\n",
    "We can use [Harmonica](https://www.fatiando.org/harmonica) for forward modelling the gravitational effect of the terrain through rectangular prisms.\n",
    "To do so we need to project the coordinates of the data and the DEM to plain coordinates."
   ]
  },
  {
   "cell_type": "markdown",
   "id": "22095adc-e2f5-4cbf-bd04-ed0cd97bf7f8",
   "metadata": {},
   "source": [
    "### Project the data to plain coordinates"
   ]
  },
  {
   "cell_type": "markdown",
   "id": "97a3a040-1c3c-49ed-8333-24774d2c1466",
   "metadata": {},
   "source": [
    "Define the Mercator projeciton using `pyproj`:"
   ]
  },
  {
   "cell_type": "code",
   "execution_count": null,
   "id": "2c964b39-1202-41e2-8890-400e06045fa2",
   "metadata": {},
   "outputs": [],
   "source": [
    "projection = pyproj.Proj(proj=\"merc\", lat_ts=data.latitude.mean())"
   ]
  },
  {
   "cell_type": "code",
   "execution_count": null,
   "id": "913b9ee8-a825-4a2d-a73a-e3993b2cbbc7",
   "metadata": {},
   "outputs": [],
   "source": [
    "easting, northing = projection(data.longitude.values, data.latitude.values)"
   ]
  },
  {
   "cell_type": "code",
   "execution_count": null,
   "id": "0dfef710-efd5-4add-9a95-89d23b0939df",
   "metadata": {},
   "outputs": [],
   "source": [
    "data[\"easting\"] = easting\n",
    "data[\"northing\"] = northing\n",
    "data"
   ]
  },
  {
   "cell_type": "markdown",
   "id": "12031e53-9183-4831-9e5a-c14c644a8fa7",
   "metadata": {},
   "source": [
    "### Project the topography to plain coordinates"
   ]
  },
  {
   "cell_type": "code",
   "execution_count": null,
   "id": "c6bfdf31-a373-4311-80c4-a987b31cabd6",
   "metadata": {},
   "outputs": [],
   "source": []
  },
  {
   "cell_type": "markdown",
   "id": "e769f871-af99-4669-9232-ea6c1d42c231",
   "metadata": {},
   "source": [
    "### Compute gravitational effect of the layer of prisms"
   ]
  },
  {
   "cell_type": "markdown",
   "id": "e67fbeba-e48e-4be0-a318-d18c246f9c3b",
   "metadata": {},
   "source": [
    "Create a model of the terrain with prisms\n",
    "\n",
    "\n",
    "![](nb-images/prisms.svg)"
   ]
  },
  {
   "cell_type": "code",
   "execution_count": null,
   "id": "a936d7eb-865b-47dd-bc19-9a64b9686255",
   "metadata": {},
   "outputs": [],
   "source": []
  },
  {
   "cell_type": "markdown",
   "id": "b65a62da-cc21-471e-8e96-1a9341b8623c",
   "metadata": {},
   "source": [
    "Calculate the gravitational effect of the terrain"
   ]
  },
  {
   "cell_type": "code",
   "execution_count": null,
   "id": "0b221dac-736f-41b9-89da-099af0ed27f1",
   "metadata": {},
   "outputs": [],
   "source": [
    "coordinates = (data.easting, data.northing, data.height_geometric_m)"
   ]
  },
  {
   "cell_type": "code",
   "execution_count": null,
   "id": "f7877190-9d33-4e16-b854-a6a0e0078178",
   "metadata": {},
   "outputs": [],
   "source": []
  },
  {
   "cell_type": "markdown",
   "id": "598f5d79-b55e-4b7c-984d-c9df170c5443",
   "metadata": {},
   "source": [
    "Calculate the Bouguer disturbance"
   ]
  },
  {
   "cell_type": "code",
   "execution_count": null,
   "id": "b0de1433-5b55-43fb-a5eb-efbfb5a37ccc",
   "metadata": {},
   "outputs": [],
   "source": [
    "data[\"bouguer_mgal\"] = data.gravity_disturbance_mgal - terrain_effect\n",
    "data"
   ]
  },
  {
   "cell_type": "code",
   "execution_count": null,
   "id": "41559110-927f-4913-9678-b720e7ca501e",
   "metadata": {},
   "outputs": [],
   "source": [
    "fig = pygmt.Figure()\n",
    "fig.basemap(projection=\"M15c\", region=region_deg, frame=True)\n",
    "\n",
    "maxabs = vd.maxabs(data.bouguer_mgal)\n",
    "pygmt.makecpt(cmap=\"polar\", series=[-maxabs, maxabs])\n",
    "fig.plot(\n",
    "    x=data.longitude,\n",
    "    y=data.latitude,\n",
    "    color=data.bouguer_mgal,\n",
    "    cmap=True,\n",
    "    style=\"c4p\",\n",
    ")\n",
    "fig.colorbar(frame='af+l\"Bouguer gravity disturbance [mGal]\"')\n",
    "fig.show()"
   ]
  },
  {
   "cell_type": "markdown",
   "id": "705be8cf-af67-45e8-ad5b-08e58fe90d5e",
   "metadata": {},
   "source": [
    "## Calculate residuals\n",
    "\n",
    "We can calculate a regional field by defining deep equivalent sources with [Harmonica](https://www.fatiando.org/harmonica):\n",
    "\n",
    "![](nb-images/equivalent-sources.svg)"
   ]
  },
  {
   "cell_type": "code",
   "execution_count": null,
   "id": "1a0fc0bd-7b69-41ad-b754-db7cea99ba69",
   "metadata": {},
   "outputs": [],
   "source": []
  },
  {
   "cell_type": "code",
   "execution_count": null,
   "id": "48dbc668-2196-48eb-9644-0701cfdecfdc",
   "metadata": {},
   "outputs": [],
   "source": [
    "data[\"residuals_mgal\"] = residuals\n",
    "data"
   ]
  },
  {
   "cell_type": "code",
   "execution_count": null,
   "id": "13e9bbb1-9fb8-450c-8e51-4e6b47934413",
   "metadata": {},
   "outputs": [],
   "source": [
    "fig = pygmt.Figure()\n",
    "fig.basemap(projection=\"M15c\", region=region_deg, frame=True)\n",
    "\n",
    "maxabs = np.quantile(np.abs(data.residuals_mgal), 0.99)\n",
    "pygmt.makecpt(cmap=\"polar\", series=[-maxabs, maxabs])\n",
    "fig.plot(\n",
    "    x=data.longitude,\n",
    "    y=data.latitude,\n",
    "    color=data.residuals_mgal,\n",
    "    cmap=True,\n",
    "    style=\"c5p\",\n",
    ")\n",
    "fig.colorbar(frame='af+l\"Residuals [mGal]\"')\n",
    "fig.show()"
   ]
  },
  {
   "cell_type": "markdown",
   "id": "35dc8dcb-d53b-45e7-8c27-93a629575fab",
   "metadata": {},
   "source": [
    "## Grid the residuals with Equivalent Sources\n",
    "\n",
    "We can use [Harmonica](https://www.fatiando.org/harmonica) to grid the residuals though the equivalent sources technique"
   ]
  },
  {
   "cell_type": "code",
   "execution_count": null,
   "id": "f6b177b8-85be-4000-9e22-4e81398a3f77",
   "metadata": {},
   "outputs": [],
   "source": []
  },
  {
   "cell_type": "markdown",
   "id": "893b790d-d201-4322-8011-1c5083cf5c42",
   "metadata": {},
   "source": [
    "Define coordiantes of the grid"
   ]
  },
  {
   "cell_type": "code",
   "execution_count": null,
   "id": "fba34058-cb9e-410a-ae94-9464f5bbcacb",
   "metadata": {},
   "outputs": [],
   "source": []
  },
  {
   "cell_type": "code",
   "execution_count": null,
   "id": "da45224f-5d4a-451f-a713-bcee743b60b0",
   "metadata": {},
   "outputs": [],
   "source": []
  },
  {
   "cell_type": "code",
   "execution_count": null,
   "id": "327a4f1d-c2e4-4c66-8c8e-be567377066e",
   "metadata": {},
   "outputs": [],
   "source": [
    "fig = pygmt.Figure()\n",
    "fig.basemap(projection=\"M15c\", region=region_deg, frame=True)\n",
    "\n",
    "scale = np.quantile(np.abs(grid.residuals), 0.995)\n",
    "pygmt.makecpt(cmap=\"polar\", series=[-scale, scale], no_bg=True)\n",
    "fig.grdimage(\n",
    "    grid.residuals,\n",
    "    shading=\"+a45+nt0.15\",\n",
    "    cmap=True,\n",
    ")\n",
    "fig.colorbar(frame='af+l\"Residuals [mGal]\"')\n",
    "fig.show()"
   ]
  },
  {
   "cell_type": "markdown",
   "id": "209f8be4-0fb3-4f2d-ac1a-59db7087cf93",
   "metadata": {},
   "source": [
    "![Bushveld geologic map](nb-images/bushveld_igneous_complex_geology.jpg)\n",
    "\n",
    "Geology and mineral exploration sites of the Bushveld Igneous Complex ([public domain](https://en.wikipedia.org/wiki/File:Bushveld_Igneous_Complex.png)). "
   ]
  }
 ],
 "metadata": {
  "kernelspec": {
   "display_name": "Python [conda env:2022-ubc-fatiando]",
   "language": "python",
   "name": "conda-env-2022-ubc-fatiando-py"
  },
  "language_info": {
   "codemirror_mode": {
    "name": "ipython",
    "version": 3
   },
   "file_extension": ".py",
   "mimetype": "text/x-python",
   "name": "python",
   "nbconvert_exporter": "python",
   "pygments_lexer": "ipython3",
   "version": "3.9.0"
  }
 },
 "nbformat": 4,
 "nbformat_minor": 5
}
